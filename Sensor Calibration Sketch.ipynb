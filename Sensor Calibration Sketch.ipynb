{
 "cells": [
  {
   "cell_type": "code",
   "execution_count": null,
   "id": "6321669c",
   "metadata": {},
   "outputs": [],
   "source": [
    "from io import StringIO\n",
    "import numpy as np\n",
    "from serial import Serial\n",
    "import time\n",
    "import pandas as pd\n",
    "import sys\n",
    "\n",
    "# make sure the 'COM#' is set according the Windows Device Manager\n",
    "try:\n",
    "    ser = Serial('COM4',9600)\n",
    "except ConnectionError as c:\n",
    "    print(c)\n",
    "    \n",
    "data = []\n",
    "cmd = \"y\"\n",
    "\n",
    "while ser.isOpen():\n",
    "    try:\n",
    "\n",
    "            for i in range(10):\n",
    "                x = ser.readline(8).decode()\n",
    "                print(x)\n",
    "\n",
    "            cmd = input(\"Continue: [y/n]?\")\n",
    "            if cmd == \"n\":\n",
    "                break\n",
    "\n",
    "    except ValueError as e:\n",
    "        print(e)\n",
    "\n",
    "ser.close()"
   ]
  },
  {
   "cell_type": "code",
   "execution_count": null,
   "id": "147f3c19",
   "metadata": {},
   "outputs": [],
   "source": []
  }
 ],
 "metadata": {
  "kernelspec": {
   "display_name": "Python 3",
   "language": "python",
   "name": "python3"
  },
  "language_info": {
   "codemirror_mode": {
    "name": "ipython",
    "version": 3
   },
   "file_extension": ".py",
   "mimetype": "text/x-python",
   "name": "python",
   "nbconvert_exporter": "python",
   "pygments_lexer": "ipython3",
   "version": "3.8.8"
  }
 },
 "nbformat": 4,
 "nbformat_minor": 5
}
